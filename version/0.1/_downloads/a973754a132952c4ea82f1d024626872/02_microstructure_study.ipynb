{
  "cells": [
    {
      "cell_type": "markdown",
      "metadata": {},
      "source": [
        "\n# Microstructure average grain size plot\n\nThis example shows how you can use PyAdditive-Wdigets to visualize the results\nof a parametric study containing microstructure simulations.\nThe :obj:`display <ansys.additive.widgets.display>` package is used to\nvisualize the results of the study.\n\nUnits are SI (m, kg, s, K) unless otherwise noted.\n"
      ]
    },
    {
      "cell_type": "markdown",
      "metadata": {},
      "source": [
        "## Perform required imports and create a study\nPerform the required import and create a :class:`ParametricStudy` instance.\n\n"
      ]
    },
    {
      "cell_type": "code",
      "execution_count": null,
      "metadata": {
        "collapsed": false
      },
      "outputs": [],
      "source": [
        "from ansys.additive.core import Additive\nfrom ansys.additive.core.parametric_study import ParametricStudy\n\nfrom ansys.additive.widgets import display\n\nstudy = ParametricStudy(\"microstructure-study\")"
      ]
    },
    {
      "cell_type": "markdown",
      "metadata": {},
      "source": [
        "## Get the study file name\nThe current state of the parametric study is saved to a file upon each\nupdate. You can retrieve the name of the file as shown below. This file\nuses a binary format and is not human readable.\n\n"
      ]
    },
    {
      "cell_type": "code",
      "execution_count": null,
      "metadata": {
        "collapsed": false
      },
      "outputs": [],
      "source": [
        "print(study.file_name)"
      ]
    },
    {
      "cell_type": "markdown",
      "metadata": {},
      "source": [
        "## Select a material for the study\nSelect a material to use in the study. The material name must be known by\nthe Additive service. You can connect to the Additive service\nand print a list of available materials prior to selecting one.\n\n"
      ]
    },
    {
      "cell_type": "code",
      "execution_count": null,
      "metadata": {
        "collapsed": false
      },
      "outputs": [],
      "source": [
        "additive = Additive()\nadditive.materials_list()\nmaterial = \"IN718\""
      ]
    },
    {
      "cell_type": "markdown",
      "metadata": {},
      "source": [
        "## Create a microstructure evaluation\nHere a set of microstructure simulations is generated using many of the same\nparameters used for the porosity simulations in the previous example.\nThe parameters ``cooling_rate``, ``thermal_gradient``, ``melt_pool_width``,\nand ``melt_pool_depth`` are not specified so they are calculated. The\n:meth:`~ParametricStudy.generate_microstructure_permutations` method is used to add\nmicrostructure simulations to the study.\n\n"
      ]
    },
    {
      "cell_type": "code",
      "execution_count": null,
      "metadata": {
        "collapsed": false
      },
      "outputs": [],
      "source": [
        "# Specify a range of laser powers. Valid values are 50 to 700 W.\nlaser_powers = [150, 250, 350]\n# Specify a range of laser scan speeds. Valid values are 0.35 to 2.5 m/s.\nscan_speeds = [0.5, 0.7]\n# Specify a range of layer thicknesses. Valid values are 10-6 to 100e-6 m.\nlayer_thicknesses = [40e-6]\n# Specify a range of heater temperatures. Valid values 20 - 500 C.\nheater_temperatures = [80]\n# Specify laser beam diameters. Valid values are 20e-6 to 140e-6 m.\nbeam_diameters = [80e-6]\n# Specify the machine parameters for the simulations.\nstart_angles = [45]\nrotation_angles = [67.5]\nhatch_spacings = [100e-6]\n\nstudy.generate_microstructure_permutations(\n    material_name=material,\n    laser_powers=laser_powers,\n    scan_speeds=scan_speeds,\n    size_x=1e-3,\n    size_y=1e-3,\n    size_z=1.1e-3,\n    sensor_dimension=1e-4,\n    layer_thicknesses=layer_thicknesses,\n    heater_temperatures=heater_temperatures,\n    beam_diameters=beam_diameters,\n    start_angles=start_angles,\n    rotation_angles=rotation_angles,\n    hatch_spacings=hatch_spacings,\n    iteration=2,\n)"
      ]
    },
    {
      "cell_type": "markdown",
      "metadata": {},
      "source": [
        "## Show the simulations as a table\nYou can use the :obj:`display <ansys.additive.widgets.display>`\npackage to list the simulations as a table.\n\n"
      ]
    },
    {
      "cell_type": "code",
      "execution_count": null,
      "metadata": {
        "collapsed": false
      },
      "outputs": [],
      "source": [
        "display.show_table(study)"
      ]
    },
    {
      "cell_type": "markdown",
      "metadata": {},
      "source": [
        "## Run microstructure simulations\nRun the simulations using the :meth:`~ParametricStudy.run_simulations` method.\n\n"
      ]
    },
    {
      "cell_type": "code",
      "execution_count": null,
      "metadata": {
        "collapsed": false
      },
      "outputs": [],
      "source": [
        "study.run_simulations(additive)"
      ]
    },
    {
      "cell_type": "markdown",
      "metadata": {},
      "source": [
        "## Plot microstructure results\nPlot and compare the average grain sizes from the microstructure simulations\nusing the :func:`~ansys.additive.widgets.display.ave_grain_size_plot`\nmethod.\n\n"
      ]
    },
    {
      "cell_type": "code",
      "execution_count": null,
      "metadata": {
        "collapsed": false
      },
      "outputs": [],
      "source": [
        "display.ave_grain_size_plot(study)"
      ]
    }
  ],
  "metadata": {
    "kernelspec": {
      "display_name": "Python 3",
      "language": "python",
      "name": "python3"
    },
    "language_info": {
      "codemirror_mode": {
        "name": "ipython",
        "version": 3
      },
      "file_extension": ".py",
      "mimetype": "text/x-python",
      "name": "python",
      "nbconvert_exporter": "python",
      "pygments_lexer": "ipython3",
      "version": "3.9.19"
    }
  },
  "nbformat": 4,
  "nbformat_minor": 0
}