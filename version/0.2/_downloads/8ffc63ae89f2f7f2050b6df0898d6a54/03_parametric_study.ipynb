{
  "cells": [
    {
      "cell_type": "markdown",
      "metadata": {},
      "source": [
        "\n# Parametric study\n\nThis example shows how to use PyAdditive to perform a parametric study.\nYou perform a parametric study if you want to optimize additive machine parameters\nto achieve a specific result. This examples first uses the :class:`ParametricStudy`\nclass to perform the parametric study. It then uses the :obj:`display <ansys.additive.widgets.display>`\npackage in PyAdditive-Widgets to visualize the results of the study.\n\nUnits are SI (m, kg, s, K) unless otherwise noted.\n"
      ]
    },
    {
      "cell_type": "markdown",
      "metadata": {},
      "source": [
        "## Perform required imports and create study\nPerform the required imports and create a :class:`ParametricStudy` instance.\n\n"
      ]
    },
    {
      "cell_type": "code",
      "execution_count": null,
      "metadata": {
        "collapsed": false
      },
      "outputs": [],
      "source": [
        "from ansys.additive.core import Additive, SimulationStatus, SimulationType\nfrom ansys.additive.core.parametric_study import ColumnNames, ParametricStudy\nimport ansys.additive.core.parametric_study.display as display\n\nstudy = ParametricStudy(\"demo-study\")"
      ]
    },
    {
      "cell_type": "markdown",
      "metadata": {},
      "source": [
        "## Get name of study file\nThe current state of the parametric study is saved to a file upon each\nupdate. This code retrieves the name of the file. This file\nuses a binary format and is not human readable.\n\n"
      ]
    },
    {
      "cell_type": "code",
      "execution_count": null,
      "metadata": {
        "collapsed": false
      },
      "outputs": [],
      "source": [
        "print(study.file_name)"
      ]
    },
    {
      "cell_type": "markdown",
      "metadata": {},
      "source": [
        "## Select material for study\nSelect a material to use in the study. The material name must be known by\nthe Additive service. You can connect to the Additive service\nand print a list of available materials prior to selecting one.\n\n"
      ]
    },
    {
      "cell_type": "code",
      "execution_count": null,
      "metadata": {
        "collapsed": false
      },
      "outputs": [],
      "source": [
        "additive = Additive()\nprint(\"Available material names: {}\".format(additive.materials_list()))\nmaterial = \"IN718\""
      ]
    },
    {
      "cell_type": "markdown",
      "metadata": {},
      "source": [
        "## Create single bead evaluation\nParametric studies often start with single bead simulations to determine melt\npool statistics. The following code uses the :meth:`~ParametricStudy.generate_single_bead_permutations`\nmethod to generate single bead simulation permutations. This method's parameters\nallow you to specify a range of machine parameters and filter them by energy density.\nNot all of the parameters listed are required. Optional parameters that are not specified\nuse the default values defined in the :class:`MachineConstants` class.\n\n"
      ]
    },
    {
      "cell_type": "code",
      "execution_count": null,
      "metadata": {
        "collapsed": false
      },
      "outputs": [],
      "source": [
        "import numpy as np\n\n# Specify a range of laser powers. Valid values are 50 to 700 W.\ninitial_powers = np.linspace(50, 700, 7)\n# Specify a range of laser scan speeds. Valid values are 0.35 to 2.5 m/s.\ninitial_scan_speeds = np.linspace(0.35, 2.5, 5)\n# Specify powder layer thicknesses. Valid values are 10e-6 to 100e-6 m.\ninitial_layer_thicknesses = [40e-6, 50e-6]\n# Specify laser beam diameters. Valid values are 20e-6 to 140e-6 m.\ninitial_beam_diameters = [80e-6]\n# Specify heater temperatures. Valid values are 20 - 500 C.\ninitial_heater_temps = [80]\n# Restrict the permutations within a range of energy densities\n# For single bead, the energy density is laser power / (laser scan speed * layer thickness).\nmin_energy_density = 2e6\nmax_energy_density = 8e6\n# Specify a bead length in meters.\nbead_length = 0.001\n\nstudy.generate_single_bead_permutations(\n    material_name=material,\n    bead_length=bead_length,\n    laser_powers=initial_powers,\n    scan_speeds=initial_scan_speeds,\n    layer_thicknesses=initial_layer_thicknesses,\n    beam_diameters=initial_beam_diameters,\n    heater_temperatures=initial_heater_temps,\n    min_area_energy_density=min_energy_density,\n    max_area_energy_density=max_energy_density,\n)"
      ]
    },
    {
      "cell_type": "markdown",
      "metadata": {},
      "source": [
        "## Show simulations as a table\nYou can use the :obj:`display <ansys.additive.core.parametric_study.display>`\npackage to list the simulations as a table.\n\n"
      ]
    },
    {
      "cell_type": "code",
      "execution_count": null,
      "metadata": {
        "collapsed": false
      },
      "outputs": [],
      "source": [
        "display.show_table(study)"
      ]
    },
    {
      "cell_type": "markdown",
      "metadata": {},
      "source": [
        "## Skip some simulations\nIf you are working with a large parametric study, you may want to skip some\nsimulations to reduce processing time. To do so, set the simulation status,\nwhich is defined in the :class:`SimulationStatus` class, to :obj:`SimulationStatus.SKIP`.\nThe following code obtains a :class:`~pandas.DataFrame` object, applies a filter\nto get a list of simulation IDs, and then updates the status on the\nsimulations with those IDs.\n\n"
      ]
    },
    {
      "cell_type": "code",
      "execution_count": null,
      "metadata": {
        "collapsed": false
      },
      "outputs": [],
      "source": [
        "df = study.data_frame()\n# Get IDs for single bead simulations with laser power below 75 W.\nids = df.loc[\n    (df[ColumnNames.LASER_POWER] < 75) & (df[ColumnNames.TYPE] == SimulationType.SINGLE_BEAD),\n    ColumnNames.ID,\n].tolist()\nstudy.set_status(ids, SimulationStatus.SKIP)\ndisplay.show_table(study)"
      ]
    },
    {
      "cell_type": "markdown",
      "metadata": {},
      "source": [
        "## Run single bead simulations\nRun the simulations using the :meth:`~ParametricStudy.run_simulations` method. All simulations\nwith a :obj:`SimulationStatus.PENDING` status are executed.\n\n"
      ]
    },
    {
      "cell_type": "code",
      "execution_count": null,
      "metadata": {
        "collapsed": false
      },
      "outputs": [],
      "source": [
        "study.run_simulations(additive)"
      ]
    },
    {
      "cell_type": "markdown",
      "metadata": {},
      "source": [
        "## Save study to CSV file\nThe parametric study is saved with each update in a binary format.\nFor other formats, use the ``to_*`` methods provided by the :class:`~pandas.DataFrame` class.\n\n"
      ]
    },
    {
      "cell_type": "code",
      "execution_count": null,
      "metadata": {
        "collapsed": false
      },
      "outputs": [],
      "source": [
        "study.data_frame().to_csv(\"demo-study.csv\")"
      ]
    },
    {
      "cell_type": "markdown",
      "metadata": {},
      "source": [
        "## Plot single bead results\nPlot the single bead results using the\n:func:`~ansys.additive.widgets.display.single_bead_eval_plot` function.\n\n"
      ]
    },
    {
      "cell_type": "code",
      "execution_count": null,
      "metadata": {
        "collapsed": false
      },
      "outputs": [],
      "source": [
        "display.single_bead_eval_plot(study)"
      ]
    },
    {
      "cell_type": "markdown",
      "metadata": {},
      "source": [
        "## Create porosity evaluation\nYou can use the insights gained from the single bead evaluation to\ngenerate parameters for a porosity evaluation. Alternatively, you can\nperform a porosity evaluation without a previous single bead evaluation.\nThe following code determines the laser power and scan speeds by filtering the\nsingle bead results, where the ratio of the melt pool reference depth\nto reference width is within a specified range. Additionally, it restricts the\nsimulations to a minimum build rate, which is calculated as\nscan speed * layer thickness * hatch spacing. Finally, it uses the\n:meth:`~ParametricStudy.generate_porosity_permutations` method to add\nporosity simulations to the study.\n\n"
      ]
    },
    {
      "cell_type": "code",
      "execution_count": null,
      "metadata": {
        "collapsed": false
      },
      "outputs": [],
      "source": [
        "df = study.data_frame()\ndf = df[\n    (df[ColumnNames.MELT_POOL_REFERENCE_DEPTH_OVER_WIDTH] >= 0.3)\n    & (df[ColumnNames.MELT_POOL_REFERENCE_DEPTH_OVER_WIDTH] <= 0.65)\n]\n\nstudy.generate_porosity_permutations(\n    material_name=material,\n    laser_powers=df[ColumnNames.LASER_POWER].unique(),\n    scan_speeds=df[ColumnNames.SCAN_SPEED].unique(),\n    size_x=1e-3,\n    size_y=1e-3,\n    size_z=1e-3,\n    layer_thicknesses=[40e-6],\n    heater_temperatures=[80],\n    beam_diameters=[80e-6],\n    start_angles=[45],\n    rotation_angles=[67.5],\n    hatch_spacings=[100e-6],\n    min_build_rate=5e-9,\n    iteration=1,\n)"
      ]
    },
    {
      "cell_type": "markdown",
      "metadata": {},
      "source": [
        "## Run porosity simulations\nRun the simulations using the :meth:`~ParametricStudy.run_simulations` method.\n\n"
      ]
    },
    {
      "cell_type": "code",
      "execution_count": null,
      "metadata": {
        "collapsed": false
      },
      "outputs": [],
      "source": [
        "study.run_simulations(additive)"
      ]
    },
    {
      "cell_type": "markdown",
      "metadata": {},
      "source": [
        "## Plot porosity results\nPlot the porosity simulation results using the\n:func:`~ansys.additive.widgets.display.porosity_contour_plot` method.\n\n"
      ]
    },
    {
      "cell_type": "code",
      "execution_count": null,
      "metadata": {
        "collapsed": false
      },
      "outputs": [],
      "source": [
        "display.porosity_contour_plot(study)"
      ]
    },
    {
      "cell_type": "markdown",
      "metadata": {},
      "source": [
        "## Create microstructure evaluation\nThe following code generates a set of microstructure simulations using many of the same\nparameters used for the porosity simulations. Because the ``cooling_rate``,\n``thermal_gradient``, ``melt_pool_width``, and ``melt_pool_depth`` parameters are not\nspecified, they are calculated. The code then uses the\n:meth:`~ParametricStudy.generate_microstructure_permutations` method to add\nmicrostructure simulations to the study.\n\n"
      ]
    },
    {
      "cell_type": "code",
      "execution_count": null,
      "metadata": {
        "collapsed": false
      },
      "outputs": [],
      "source": [
        "df = study.data_frame()\ndf = df[(df[ColumnNames.TYPE] == SimulationType.POROSITY)]\n\nstudy.generate_microstructure_permutations(\n    material_name=material,\n    laser_powers=df[ColumnNames.LASER_POWER].unique(),\n    scan_speeds=df[ColumnNames.SCAN_SPEED].unique(),\n    size_x=1e-3,\n    size_y=1e-3,\n    size_z=1.1e-3,\n    sensor_dimension=1e-4,\n    layer_thicknesses=df[ColumnNames.LAYER_THICKNESS].unique(),\n    heater_temperatures=df[ColumnNames.HEATER_TEMPERATURE].unique(),\n    beam_diameters=df[ColumnNames.BEAM_DIAMETER].unique(),\n    start_angles=df[ColumnNames.START_ANGLE].unique(),\n    rotation_angles=df[ColumnNames.ROTATION_ANGLE].unique(),\n    hatch_spacings=df[ColumnNames.HATCH_SPACING].unique(),\n    iteration=2,\n)"
      ]
    },
    {
      "cell_type": "markdown",
      "metadata": {},
      "source": [
        "## Run microstructure simulations\nRun the simulations using the :meth:`~ParametricStudy.run_simulations` method.\n\n"
      ]
    },
    {
      "cell_type": "code",
      "execution_count": null,
      "metadata": {
        "collapsed": false
      },
      "outputs": [],
      "source": [
        "study.run_simulations(additive)"
      ]
    },
    {
      "cell_type": "markdown",
      "metadata": {},
      "source": [
        "## Plot microstructure results\nPlot and compare the average grain sizes from the microstructure simulations\nusing the :func:`~ansys.additive.widgets.display.ave_grain_size_plot`\nfunction.\n\n"
      ]
    },
    {
      "cell_type": "code",
      "execution_count": null,
      "metadata": {
        "collapsed": false
      },
      "outputs": [],
      "source": [
        "display.ave_grain_size_plot(study)"
      ]
    }
  ],
  "metadata": {
    "kernelspec": {
      "display_name": "Python 3",
      "language": "python",
      "name": "python3"
    },
    "language_info": {
      "codemirror_mode": {
        "name": "ipython",
        "version": 3
      },
      "file_extension": ".py",
      "mimetype": "text/x-python",
      "name": "python",
      "nbconvert_exporter": "python",
      "pygments_lexer": "ipython3",
      "version": "3.10.14"
    }
  },
  "nbformat": 4,
  "nbformat_minor": 0
}