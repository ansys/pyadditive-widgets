{
  "cells": [
    {
      "cell_type": "markdown",
      "metadata": {},
      "source": [
        "\n# Single bead evaluation plot\n\nThis example shows how you can use PyAdditive-Wdigets to visualize the results\nof a parametric study containing single bead simulations.\nThe :obj:`display <ansys.additive.widgets.display>` package is used to\nvisualize the results of the study.\n\nUnits are SI (m, kg, s, K) unless otherwise noted.\n"
      ]
    },
    {
      "cell_type": "markdown",
      "metadata": {},
      "source": [
        "## Perform required imports and create a study\nPerform the required import and create a :class:`ParametricStudy` instance.\n\n"
      ]
    },
    {
      "cell_type": "code",
      "execution_count": null,
      "metadata": {
        "collapsed": false
      },
      "outputs": [],
      "source": [
        "from ansys.additive.core import Additive, SimulationStatus, SimulationType\nfrom ansys.additive.core.parametric_study import ColumnNames, ParametricStudy\n\nfrom ansys.additive.widgets import display\n\nstudy = ParametricStudy(\"single-bead-study\")"
      ]
    },
    {
      "cell_type": "markdown",
      "metadata": {},
      "source": [
        "## Get the study file name\nThe current state of the parametric study is saved to a file upon each\nupdate. You can retrieve the name of the file as shown below. This file\nuses a binary format and is not human readable.\n\n"
      ]
    },
    {
      "cell_type": "code",
      "execution_count": null,
      "metadata": {
        "collapsed": false
      },
      "outputs": [],
      "source": [
        "print(study.file_name)"
      ]
    },
    {
      "cell_type": "markdown",
      "metadata": {},
      "source": [
        "## Select a material for the study\nSelect a material to use in the study. The material name must be known by\nthe Additive service. You can connect to the Additive service\nand print a list of available materials prior to selecting one.\n\n"
      ]
    },
    {
      "cell_type": "code",
      "execution_count": null,
      "metadata": {
        "collapsed": false
      },
      "outputs": [],
      "source": [
        "additive = Additive()\nadditive.materials_list()\nmaterial = \"IN718\""
      ]
    },
    {
      "cell_type": "markdown",
      "metadata": {},
      "source": [
        "## Create a single bead evaluation\nHere, the :meth:`~ParametricStudy.generate_single_bead_permutations` method is used to\ngenerate single bead simulation permutations. The parameters\nfor the :meth:`~ParametricStudy.generate_single_bead_permutations` method allow you to\nspecify a range of machine parameters and filter them by energy density. Not all\nthe parameters shown are required. Optional parameters that are not specified\nuse default values defined in the :class:`MachineConstants` class.\n\n"
      ]
    },
    {
      "cell_type": "code",
      "execution_count": null,
      "metadata": {
        "collapsed": false
      },
      "outputs": [],
      "source": [
        "import numpy as np\n\n# Specify a range of laser powers. Valid values are 50 to 700 W.\ninitial_powers = np.linspace(50, 700, 7)\n# Specify a range of laser scan speeds. Valid values are 0.35 to 2.5 m/s.\ninitial_scan_speeds = np.linspace(0.35, 2.5, 5)\n# Specify powder layer thicknesses. Valid values are 10e-6 to 100e-6 m.\ninitial_layer_thicknesses = [40e-6, 50e-6]\n# Specify laser beam diameters. Valid values are 20e-6 to 140e-6 m.\ninitial_beam_diameters = [80e-6]\n# Specify heater temperatures. Valid values are 20 - 500 C.\ninitial_heater_temps = [80]\n# Restrict the permutations within a range of energy densities\n# For single bead, the energy density is laser power / (laser scan speed * layer thickness).\nmin_energy_density = 2e6\nmax_energy_density = 8e6\n# Specify a bead length in meters.\nbead_length = 0.001\n\nstudy.generate_single_bead_permutations(\n    material_name=material,\n    bead_length=bead_length,\n    laser_powers=initial_powers,\n    scan_speeds=initial_scan_speeds,\n    layer_thicknesses=initial_layer_thicknesses,\n    beam_diameters=initial_beam_diameters,\n    heater_temperatures=initial_heater_temps,\n    min_area_energy_density=min_energy_density,\n    max_area_energy_density=max_energy_density,\n)"
      ]
    },
    {
      "cell_type": "markdown",
      "metadata": {},
      "source": [
        "## Show the simulations as a table\nYou can use the :obj:`display <ansys.additive.widgets.display>`\npackage to list the simulations as a table.\n\n"
      ]
    },
    {
      "cell_type": "code",
      "execution_count": null,
      "metadata": {
        "collapsed": false
      },
      "outputs": [],
      "source": [
        "display.show_table(study)"
      ]
    },
    {
      "cell_type": "markdown",
      "metadata": {},
      "source": [
        "## Skip some simulations\nIf you are working with a large parametric study, you may want to skip some\nsimulations to reduce processing time. To do so, set the simulation status\nto :obj:`SimulationStatus.SKIP` which is defined in the :class:`SimulationStatus`\nclass. Here, a :class:`~pandas.DataFrame` object is obtained, a filter is\napplied to get a list of simulation IDs, and then the status is updated on the\nsimulations with those IDs.\n\n"
      ]
    },
    {
      "cell_type": "code",
      "execution_count": null,
      "metadata": {
        "collapsed": false
      },
      "outputs": [],
      "source": [
        "df = study.data_frame()\n# Get IDs for single bead simulations with laser power below 75 W.\nids = df.loc[\n    (df[ColumnNames.LASER_POWER] < 75) & (df[ColumnNames.TYPE] == SimulationType.SINGLE_BEAD),\n    ColumnNames.ID,\n].tolist()\nstudy.set_status(ids, SimulationStatus.SKIP)\ndisplay.show_table(study)"
      ]
    },
    {
      "cell_type": "markdown",
      "metadata": {},
      "source": [
        "## Run single bead simulations\nRun the simulations using the :meth:`~ParametricStudy.run_simulations` method. All simulations\nwith a :obj:`SimulationStatus.PENDING` status are executed.\n\n"
      ]
    },
    {
      "cell_type": "code",
      "execution_count": null,
      "metadata": {
        "collapsed": false
      },
      "outputs": [],
      "source": [
        "study.run_simulations(additive)"
      ]
    },
    {
      "cell_type": "markdown",
      "metadata": {},
      "source": [
        "## Plot single bead results\nPlot the single bead results using the\n:func:`~ansys.additive.widgets.display.single_bead_eval_plot` method.\n\n"
      ]
    },
    {
      "cell_type": "code",
      "execution_count": null,
      "metadata": {
        "collapsed": false
      },
      "outputs": [],
      "source": [
        "display.single_bead_eval_plot(study)"
      ]
    }
  ],
  "metadata": {
    "kernelspec": {
      "display_name": "Python 3",
      "language": "python",
      "name": "python3"
    },
    "language_info": {
      "codemirror_mode": {
        "name": "ipython",
        "version": 3
      },
      "file_extension": ".py",
      "mimetype": "text/x-python",
      "name": "python",
      "nbconvert_exporter": "python",
      "pygments_lexer": "ipython3",
      "version": "3.9.19"
    }
  },
  "nbformat": 4,
  "nbformat_minor": 0
}