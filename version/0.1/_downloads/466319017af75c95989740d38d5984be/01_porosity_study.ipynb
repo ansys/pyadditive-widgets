{
  "cells": [
    {
      "cell_type": "markdown",
      "metadata": {},
      "source": [
        "\n# Porosity evaluation plot\n\nThis example shows how you can use PyAdditive-Wdigets to visualize the results\nof a parametric study containing porosity simulations.\nThe :obj:`display <ansys.additive.widgets.display>` package is used to\nvisualize the results of the study.\n\nUnits are SI (m, kg, s, K) unless otherwise noted.\n"
      ]
    },
    {
      "cell_type": "markdown",
      "metadata": {},
      "source": [
        "## Perform required imports and create a study\nPerform the required import and create a :class:`ParametricStudy` instance.\n\n"
      ]
    },
    {
      "cell_type": "code",
      "execution_count": null,
      "metadata": {
        "collapsed": false
      },
      "outputs": [],
      "source": [
        "from ansys.additive.core import Additive\nfrom ansys.additive.core.parametric_study import ParametricStudy\n\nfrom ansys.additive.widgets import display\n\nstudy = ParametricStudy(\"porosity-study\")"
      ]
    },
    {
      "cell_type": "markdown",
      "metadata": {},
      "source": [
        "## Get the study file name\nThe current state of the parametric study is saved to a file upon each\nupdate. You can retrieve the name of the file as shown below. This file\nuses a binary format and is not human readable.\n\n"
      ]
    },
    {
      "cell_type": "code",
      "execution_count": null,
      "metadata": {
        "collapsed": false
      },
      "outputs": [],
      "source": [
        "print(study.file_name)"
      ]
    },
    {
      "cell_type": "markdown",
      "metadata": {},
      "source": [
        "## Select a material for the study\nSelect a material to use in the study. The material name must be known by\nthe Additive service. You can connect to the Additive service\nand print a list of available materials prior to selecting one.\n\n"
      ]
    },
    {
      "cell_type": "code",
      "execution_count": null,
      "metadata": {
        "collapsed": false
      },
      "outputs": [],
      "source": [
        "additive = Additive()\nadditive.materials_list()\nmaterial = \"IN718\""
      ]
    },
    {
      "cell_type": "markdown",
      "metadata": {},
      "source": [
        "## Create a porosity evaluation\nYou can generate a set of porosity simulations using the\n:meth:`~ParametricStudy.generate_porosity_permutations` method. The parameters\nfor the :meth:`~ParametricStudy.generate_porosity_permutations` method allow you to\nspecify the material and machine parameters for the simulations. Not all\nparameters are required. Optional parameters that are not specified use default\nvalues defined in the :class:`MachineConstants` class.\n\n"
      ]
    },
    {
      "cell_type": "code",
      "execution_count": null,
      "metadata": {
        "collapsed": false
      },
      "outputs": [],
      "source": [
        "# Specify a range of laser powers. Valid values are 50 to 700 W.\nlaser_powers = [50, 150, 250, 350]\n# Specify a range of laser scan speeds. Valid values are 0.35 to 2.5 m/s.\nscan_speeds = [0.35, 0.5, 0.7]\n# Specify a range of layer thicknesses. Valid values are 10-6 to 100e-6 m.\nlayer_thicknesses = [40e-6]\n# Specify a range of heater temperatures. Valid values 20 - 500 C.\nheater_temperatures = [80]\n# Specify laser beam diameters. Valid values are 20e-6 to 140e-6 m.\nbeam_diameters = [80e-6]\n# Specify the machine parameters for the simulations.\nstart_angles = [45]\nrotation_angles = [67.5]\nhatch_spacings = [100e-6]\nstripe_widths = [0.05]\n\nstudy.generate_porosity_permutations(\n    material_name=material,\n    laser_powers=laser_powers,\n    scan_speeds=scan_speeds,\n    size_x=1e-3,\n    size_y=1e-3,\n    size_z=1e-3,\n    layer_thicknesses=layer_thicknesses,\n    heater_temperatures=heater_temperatures,\n    beam_diameters=beam_diameters,\n    start_angles=start_angles,\n    rotation_angles=rotation_angles,\n    hatch_spacings=hatch_spacings,\n    stripe_widths=stripe_widths,\n    iteration=1,\n)"
      ]
    },
    {
      "cell_type": "markdown",
      "metadata": {},
      "source": [
        "## Show the simulations as a table\nYou can use the :obj:`display <ansys.additive.widgets.display>`\npackage to list the simulations as a table.\n\n"
      ]
    },
    {
      "cell_type": "code",
      "execution_count": null,
      "metadata": {
        "collapsed": false
      },
      "outputs": [],
      "source": [
        "display.show_table(study)"
      ]
    },
    {
      "cell_type": "markdown",
      "metadata": {},
      "source": [
        "## Run porosity simulations\nRun the simulations using the :meth:`~ParametricStudy.run_simulations` method.\n\n"
      ]
    },
    {
      "cell_type": "code",
      "execution_count": null,
      "metadata": {
        "collapsed": false
      },
      "outputs": [],
      "source": [
        "study.run_simulations(additive)"
      ]
    },
    {
      "cell_type": "markdown",
      "metadata": {},
      "source": [
        "## Plot porosity results\nVisualize porosity simulation results for relative density and build rate\nas a contour plot using the\n:func:`~ansys.additive.widgets.display.porosity_contour_plot` method.\n\n"
      ]
    },
    {
      "cell_type": "code",
      "execution_count": null,
      "metadata": {
        "collapsed": false
      },
      "outputs": [],
      "source": [
        "display.porosity_contour_plot(study)"
      ]
    },
    {
      "cell_type": "markdown",
      "metadata": {},
      "source": [
        "Visualize a heat map plot of porosity results to determine parametric regions\nwith desirable relative density statistics using the\n:func:`~ansys.additive.widgets.display.porosity_eval_plot` method.\n\n"
      ]
    },
    {
      "cell_type": "code",
      "execution_count": null,
      "metadata": {
        "collapsed": false
      },
      "outputs": [],
      "source": [
        "display.porosity_eval_plot(study)"
      ]
    }
  ],
  "metadata": {
    "kernelspec": {
      "display_name": "Python 3",
      "language": "python",
      "name": "python3"
    },
    "language_info": {
      "codemirror_mode": {
        "name": "ipython",
        "version": 3
      },
      "file_extension": ".py",
      "mimetype": "text/x-python",
      "name": "python",
      "nbconvert_exporter": "python",
      "pygments_lexer": "ipython3",
      "version": "3.9.19"
    }
  },
  "nbformat": 4,
  "nbformat_minor": 0
}